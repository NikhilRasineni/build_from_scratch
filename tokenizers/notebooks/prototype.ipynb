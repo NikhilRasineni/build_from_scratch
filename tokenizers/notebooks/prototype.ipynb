{
 "cells": [
  {
   "cell_type": "code",
   "execution_count": 1,
   "metadata": {},
   "outputs": [
    {
     "data": {
      "text/plain": [
       "[73,\n",
       " 32,\n",
       " 108,\n",
       " 105,\n",
       " 107,\n",
       " 101,\n",
       " 32,\n",
       " 101,\n",
       " 97,\n",
       " 116,\n",
       " 105,\n",
       " 110,\n",
       " 103,\n",
       " 32,\n",
       " 105,\n",
       " 99,\n",
       " 101,\n",
       " 99,\n",
       " 114,\n",
       " 101,\n",
       " 97,\n",
       " 109]"
      ]
     },
     "execution_count": 1,
     "metadata": {},
     "output_type": "execute_result"
    }
   ],
   "source": [
    "[ord(x) for x in \"I like eating icecream\"]"
   ]
  },
  {
   "cell_type": "code",
   "execution_count": 8,
   "metadata": {},
   "outputs": [
    {
     "data": {
      "text/plain": [
       "[73,\n",
       " 32,\n",
       " 108,\n",
       " 105,\n",
       " 107,\n",
       " 101,\n",
       " 32,\n",
       " 101,\n",
       " 97,\n",
       " 116,\n",
       " 105,\n",
       " 110,\n",
       " 103,\n",
       " 32,\n",
       " 105,\n",
       " 99,\n",
       " 101,\n",
       " 99,\n",
       " 114,\n",
       " 101,\n",
       " 97,\n",
       " 109]"
      ]
     },
     "execution_count": 8,
     "metadata": {},
     "output_type": "execute_result"
    }
   ],
   "source": [
    "list(\"I like eating icecream\".encode(\"utf-8\"))"
   ]
  },
  {
   "cell_type": "code",
   "execution_count": 9,
   "metadata": {},
   "outputs": [],
   "source": [
    "text = \"\"\"There are, to my mind, only two ways of understanding the world: the senses and our reasoning.\n",
    "\n",
    "About our senses, we know of our basic ones: touch, smell, hearing, ect. The foundations of understanding the world with our body. To this list, I also include our emotions. We feel them, sometimes rather deeply.\n",
    "\n",
    "Our reasoning is how we understand the world with our mind. With this, we can build the foundation of our personal philosophies. It’s also elusive. We can’t sense our reasoning. Sometimes, our reasoning can invoke emotions, but that doesn’t mean we are sensing our reason.\n",
    "\n",
    "Part of the debate, from what I can understand, is which of these ways of understanding best help us navigate the world. We have the rationalists, who chose reason, and the empiricist who chose our senses. Both make good points in their positions I’ll not write here, as they are many and sometimes beyond my grasp.\n",
    "\n",
    "Yet, if I may, I’d like to propose a stance that not only combines the two, but shows that each need the other. I am not the first to come up with this idea. But, as far as I can near tell, there is no name for this stance.\n",
    "\n",
    "In Christian theology, there is a term known as synergism. There is a debate in Christian theology about if people are saved by divine grace or by human effort. Synergism says, why not both? Rather than saying one must be right and the other wrong, the synergists say that it's some combination of the two. There may be debate about how much it involves one or the other, but it still comes down to the idea that both work together.\n",
    "\n",
    "Given that it’s a religious form of what I’m proposing, let’s call this position of both empiricism and rationalism philosophical synergism.\n",
    "\n",
    "Both our senses and our reasoning work together to form our understanding of the world. Our senses are our input. Without these, our reasoning minds wouldn’t have anything to work off of. Yet without our reasoning minds, we would have no way of filtering information.\n",
    "\n",
    "Neither of these systems are perfect, even when working together. Reason can take us to the stars, our senses to the heights of ecstasy. But reason can also make crackpot sensible, our senses tricked by simple sleights of hand. Yet, on the whole, we can trust both when they work together. Think fallibilism: we can’t guarantee that we’re right, but that doesn’t mean we’re wrong, either. Our positions can always change given new information. That new information may come from our senses or from our reasoning mind.\n",
    "\n",
    "(Side note: I just learned about fallibilism, so my broad understanding of it is that we can’t be sure about anything but knowledge doesn’t need absolute certainty. Board understanding is not, typically, great understanding, but as far as I can tell, it seems to be the case.)\n",
    "\n",
    "Now, some may wonder if either reasoning or our senses pull more of the weight. It’s a fair question: is it more work to interpret our emotions, or do our senses work harder because we’d have no way to navigate the world? If I had to take a side, I’d side with our senses. Every animal survives by their senses. Very few use reason to navigate their lives. But then again, we might not be human at that point:, most animals evolved to their environment. Humans had to adapt by using what was available, and that requires reason. So perhaps it isn’t as clear as one would hope.\n",
    "\n",
    "I realize that this isn’t a formal philosophic argument. I am not a professional philosopher. I only play one on the internet. But I needed this more than you did: I needed to clarify my thoughts about how I knew what I knew. If we don’t know how we know, we fall prey to traps of both the mind and the body. Only by understanding ourselves can we spot the traps before they ensnare us.\"\"\""
   ]
  },
  {
   "cell_type": "code",
   "execution_count": 26,
   "metadata": {},
   "outputs": [
    {
     "name": "stdout",
     "output_type": "stream",
     "text": [
      "----------------\n",
      "There are, to my mind, only two ways of understanding the world: the senses and our reasoning.\n",
      "\n",
      "About our senses, we know of our basic ones: touch, smell, hearing, ect. The foundations of understanding the world with our body. To this list, I also include our emotions. We feel them, sometimes rather deeply.\n",
      "\n",
      "Our reasoning is how we understand the world with our mind. With this, we can build the foundation of our personal philosophies. It’s also elusive. We can’t sense our reasoning. Sometimes, our reasoning can invoke emotions, but that doesn’t mean we are sensing our reason.\n",
      "\n",
      "Part of the debate, from what I can understand, is which of these ways of understanding best help us navigate the world. We have the rationalists, who chose reason, and the empiricist who chose our senses. Both make good points in their positions I’ll not write here, as they are many and sometimes beyond my grasp.\n",
      "\n",
      "Yet, if I may, I’d like to propose a stance that not only combines the two, but shows that each need the other. I am not the first to come up with this idea. But, as far as I can near tell, there is no name for this stance.\n",
      "\n",
      "In Christian theology, there is a term known as synergism. There is a debate in Christian theology about if people are saved by divine grace or by human effort. Synergism says, why not both? Rather than saying one must be right and the other wrong, the synergists say that it's some combination of the two. There may be debate about how much it involves one or the other, but it still comes down to the idea that both work together.\n",
      "\n",
      "Given that it’s a religious form of what I’m proposing, let’s call this position of both empiricism and rationalism philosophical synergism.\n",
      "\n",
      "Both our senses and our reasoning work together to form our understanding of the world. Our senses are our input. Without these, our reasoning minds wouldn’t have anything to work off of. Yet without our reasoning minds, we would have no way of filtering information.\n",
      "\n",
      "Neither of these systems are perfect, even when working together. Reason can take us to the stars, our senses to the heights of ecstasy. But reason can also make crackpot sensible, our senses tricked by simple sleights of hand. Yet, on the whole, we can trust both when they work together. Think fallibilism: we can’t guarantee that we’re right, but that doesn’t mean we’re wrong, either. Our positions can always change given new information. That new information may come from our senses or from our reasoning mind.\n",
      "\n",
      "(Side note: I just learned about fallibilism, so my broad understanding of it is that we can’t be sure about anything but knowledge doesn’t need absolute certainty. Board understanding is not, typically, great understanding, but as far as I can tell, it seems to be the case.)\n",
      "\n",
      "Now, some may wonder if either reasoning or our senses pull more of the weight. It’s a fair question: is it more work to interpret our emotions, or do our senses work harder because we’d have no way to navigate the world? If I had to take a side, I’d side with our senses. Every animal survives by their senses. Very few use reason to navigate their lives. But then again, we might not be human at that point:, most animals evolved to their environment. Humans had to adapt by using what was available, and that requires reason. So perhaps it isn’t as clear as one would hope.\n",
      "\n",
      "I realize that this isn’t a formal philosophic argument. I am not a professional philosopher. I only play one on the internet. But I needed this more than you did: I needed to clarify my thoughts about how I knew what I knew. If we don’t know how we know, we fall prey to traps of both the mind and the body. Only by understanding ourselves can we spot the traps before they ensnare us.\n",
      "-----------------\n",
      "length: 3732\n",
      "----------------\n",
      "[84, 104, 101, 114, 101, 32, 97, 114, 101, 44, 32, 116, 111, 32, 109, 121, 32, 109, 105, 110, 100, 44, 32, 111, 110, 108, 121, 32, 116, 119, 111, 32, 119, 97, 121, 115, 32, 111, 102, 32, 117, 110, 100, 101, 114, 115, 116, 97, 110, 100, 105, 110, 103, 32, 116, 104, 101, 32, 119, 111, 114, 108, 100, 58, 32, 116, 104, 101, 32, 115, 101, 110, 115, 101, 115, 32, 97, 110, 100, 32, 111, 117, 114, 32, 114, 101, 97, 115, 111, 110, 105, 110, 103, 46, 10, 10, 65, 98, 111, 117, 116, 32, 111, 117, 114, 32, 115, 101, 110, 115, 101, 115, 44, 32, 119, 101, 32, 107, 110, 111, 119, 32, 111, 102, 32, 111, 117, 114, 32, 98, 97, 115, 105, 99, 32, 111, 110, 101, 115, 58, 32, 116, 111, 117, 99, 104, 44, 32, 115, 109, 101, 108, 108, 44, 32, 104, 101, 97, 114, 105, 110, 103, 44, 32, 101, 99, 116, 46, 32, 84, 104, 101, 32, 102, 111, 117, 110, 100, 97, 116, 105, 111, 110, 115, 32, 111, 102, 32, 117, 110, 100, 101, 114, 115, 116, 97, 110, 100, 105, 110, 103, 32, 116, 104, 101, 32, 119, 111, 114, 108, 100, 32, 119, 105, 116, 104, 32, 111, 117, 114, 32, 98, 111, 100, 121, 46, 32, 84, 111, 32, 116, 104, 105, 115, 32, 108, 105, 115, 116, 44, 32, 73, 32, 97, 108, 115, 111, 32, 105, 110, 99, 108, 117, 100, 101, 32, 111, 117, 114, 32, 101, 109, 111, 116, 105, 111, 110, 115, 46, 32, 87, 101, 32, 102, 101, 101, 108, 32, 116, 104, 101, 109, 44, 32, 115, 111, 109, 101, 116, 105, 109, 101, 115, 32, 114, 97, 116, 104, 101, 114, 32, 100, 101, 101, 112, 108, 121, 46, 10, 10, 79, 117, 114, 32, 114, 101, 97, 115, 111, 110, 105, 110, 103, 32, 105, 115, 32, 104, 111, 119, 32, 119, 101, 32, 117, 110, 100, 101, 114, 115, 116, 97, 110, 100, 32, 116, 104, 101, 32, 119, 111, 114, 108, 100, 32, 119, 105, 116, 104, 32, 111, 117, 114, 32, 109, 105, 110, 100, 46, 32, 87, 105, 116, 104, 32, 116, 104, 105, 115, 44, 32, 119, 101, 32, 99, 97, 110, 32, 98, 117, 105, 108, 100, 32, 116, 104, 101, 32, 102, 111, 117, 110, 100, 97, 116, 105, 111, 110, 32, 111, 102, 32, 111, 117, 114, 32, 112, 101, 114, 115, 111, 110, 97, 108, 32, 112, 104, 105, 108, 111, 115, 111, 112, 104, 105, 101, 115, 46, 32, 73, 116, 226, 128, 153, 115, 32, 97, 108, 115, 111, 32, 101, 108, 117, 115, 105, 118, 101, 46, 32, 87, 101, 32, 99, 97, 110, 226, 128, 153, 116, 32, 115, 101, 110, 115, 101, 32, 111, 117, 114, 32, 114, 101, 97, 115, 111, 110, 105, 110, 103, 46, 32, 83, 111, 109, 101, 116, 105, 109, 101, 115, 44, 32, 111, 117, 114, 32, 114, 101, 97, 115, 111, 110, 105, 110, 103, 32, 99, 97, 110, 32, 105, 110, 118, 111, 107, 101, 32, 101, 109, 111, 116, 105, 111, 110, 115, 44, 32, 98, 117, 116, 32, 116, 104, 97, 116, 32, 100, 111, 101, 115, 110, 226, 128, 153, 116, 32, 109, 101, 97, 110, 32, 119, 101, 32, 97, 114, 101, 32, 115, 101, 110, 115, 105, 110, 103, 32, 111, 117, 114, 32, 114, 101, 97, 115, 111, 110, 46, 10, 10, 80, 97, 114, 116, 32, 111, 102, 32, 116, 104, 101, 32, 100, 101, 98, 97, 116, 101, 44, 32, 102, 114, 111, 109, 32, 119, 104, 97, 116, 32, 73, 32, 99, 97, 110, 32, 117, 110, 100, 101, 114, 115, 116, 97, 110, 100, 44, 32, 105, 115, 32, 119, 104, 105, 99, 104, 32, 111, 102, 32, 116, 104, 101, 115, 101, 32, 119, 97, 121, 115, 32, 111, 102, 32, 117, 110, 100, 101, 114, 115, 116, 97, 110, 100, 105, 110, 103, 32, 98, 101, 115, 116, 32, 104, 101, 108, 112, 32, 117, 115, 32, 110, 97, 118, 105, 103, 97, 116, 101, 32, 116, 104, 101, 32, 119, 111, 114, 108, 100, 46, 32, 87, 101, 32, 104, 97, 118, 101, 32, 116, 104, 101, 32, 114, 97, 116, 105, 111, 110, 97, 108, 105, 115, 116, 115, 44, 32, 119, 104, 111, 32, 99, 104, 111, 115, 101, 32, 114, 101, 97, 115, 111, 110, 44, 32, 97, 110, 100, 32, 116, 104, 101, 32, 101, 109, 112, 105, 114, 105, 99, 105, 115, 116, 32, 119, 104, 111, 32, 99, 104, 111, 115, 101, 32, 111, 117, 114, 32, 115, 101, 110, 115, 101, 115, 46, 32, 66, 111, 116, 104, 32, 109, 97, 107, 101, 32, 103, 111, 111, 100, 32, 112, 111, 105, 110, 116, 115, 32, 105, 110, 32, 116, 104, 101, 105, 114, 32, 112, 111, 115, 105, 116, 105, 111, 110, 115, 32, 73, 226, 128, 153, 108, 108, 32, 110, 111, 116, 32, 119, 114, 105, 116, 101, 32, 104, 101, 114, 101, 44, 32, 97, 115, 32, 116, 104, 101, 121, 32, 97, 114, 101, 32, 109, 97, 110, 121, 32, 97, 110, 100, 32, 115, 111, 109, 101, 116, 105, 109, 101, 115, 32, 98, 101, 121, 111, 110, 100, 32, 109, 121, 32, 103, 114, 97, 115, 112, 46, 10, 10, 89, 101, 116, 44, 32, 105, 102, 32, 73, 32, 109, 97, 121, 44, 32, 73, 226, 128, 153, 100, 32, 108, 105, 107, 101, 32, 116, 111, 32, 112, 114, 111, 112, 111, 115, 101, 32, 97, 32, 115, 116, 97, 110, 99, 101, 32, 116, 104, 97, 116, 32, 110, 111, 116, 32, 111, 110, 108, 121, 32, 99, 111, 109, 98, 105, 110, 101, 115, 32, 116, 104, 101, 32, 116, 119, 111, 44, 32, 98, 117, 116, 32, 115, 104, 111, 119, 115, 32, 116, 104, 97, 116, 32, 101, 97, 99, 104, 32, 110, 101, 101, 100, 32, 116, 104, 101, 32, 111, 116, 104, 101, 114, 46, 32, 73, 32, 97, 109, 32, 110, 111, 116, 32, 116, 104, 101, 32, 102, 105, 114, 115, 116, 32, 116, 111, 32, 99, 111, 109, 101, 32, 117, 112, 32, 119, 105, 116, 104, 32, 116, 104, 105, 115, 32, 105, 100, 101, 97, 46, 32, 66, 117, 116, 44, 32, 97, 115, 32, 102, 97, 114, 32, 97, 115, 32, 73, 32, 99, 97, 110, 32, 110, 101, 97, 114, 32, 116, 101, 108, 108, 44, 32, 116, 104, 101, 114, 101, 32, 105, 115, 32, 110, 111, 32, 110, 97, 109, 101, 32, 102, 111, 114, 32, 116, 104, 105, 115, 32, 115, 116, 97, 110, 99, 101, 46, 10, 10, 73, 110, 32, 67, 104, 114, 105, 115, 116, 105, 97, 110, 32, 116, 104, 101, 111, 108, 111, 103, 121, 44, 32, 116, 104, 101, 114, 101, 32, 105, 115, 32, 97, 32, 116, 101, 114, 109, 32, 107, 110, 111, 119, 110, 32, 97, 115, 32, 115, 121, 110, 101, 114, 103, 105, 115, 109, 46, 32, 84, 104, 101, 114, 101, 32, 105, 115, 32, 97, 32, 100, 101, 98, 97, 116, 101, 32, 105, 110, 32, 67, 104, 114, 105, 115, 116, 105, 97, 110, 32, 116, 104, 101, 111, 108, 111, 103, 121, 32, 97, 98, 111, 117, 116, 32, 105, 102, 32, 112, 101, 111, 112, 108, 101, 32, 97, 114, 101, 32, 115, 97, 118, 101, 100, 32, 98, 121, 32, 100, 105, 118, 105, 110, 101, 32, 103, 114, 97, 99, 101, 32, 111, 114, 32, 98, 121, 32, 104, 117, 109, 97, 110, 32, 101, 102, 102, 111, 114, 116, 46, 32, 83, 121, 110, 101, 114, 103, 105, 115, 109, 32, 115, 97, 121, 115, 44, 32, 119, 104, 121, 32, 110, 111, 116, 32, 98, 111, 116, 104, 63, 32, 82, 97, 116, 104, 101, 114, 32, 116, 104, 97, 110, 32, 115, 97, 121, 105, 110, 103, 32, 111, 110, 101, 32, 109, 117, 115, 116, 32, 98, 101, 32, 114, 105, 103, 104, 116, 32, 97, 110, 100, 32, 116, 104, 101, 32, 111, 116, 104, 101, 114, 32, 119, 114, 111, 110, 103, 44, 32, 116, 104, 101, 32, 115, 121, 110, 101, 114, 103, 105, 115, 116, 115, 32, 115, 97, 121, 32, 116, 104, 97, 116, 32, 105, 116, 39, 115, 32, 115, 111, 109, 101, 32, 99, 111, 109, 98, 105, 110, 97, 116, 105, 111, 110, 32, 111, 102, 32, 116, 104, 101, 32, 116, 119, 111, 46, 32, 84, 104, 101, 114, 101, 32, 109, 97, 121, 32, 98, 101, 32, 100, 101, 98, 97, 116, 101, 32, 97, 98, 111, 117, 116, 32, 104, 111, 119, 32, 109, 117, 99, 104, 32, 105, 116, 32, 105, 110, 118, 111, 108, 118, 101, 115, 32, 111, 110, 101, 32, 111, 114, 32, 116, 104, 101, 32, 111, 116, 104, 101, 114, 44, 32, 98, 117, 116, 32, 105, 116, 32, 115, 116, 105, 108, 108, 32, 99, 111, 109, 101, 115, 32, 100, 111, 119, 110, 32, 116, 111, 32, 116, 104, 101, 32, 105, 100, 101, 97, 32, 116, 104, 97, 116, 32, 98, 111, 116, 104, 32, 119, 111, 114, 107, 32, 116, 111, 103, 101, 116, 104, 101, 114, 46, 10, 10, 71, 105, 118, 101, 110, 32, 116, 104, 97, 116, 32, 105, 116, 226, 128, 153, 115, 32, 97, 32, 114, 101, 108, 105, 103, 105, 111, 117, 115, 32, 102, 111, 114, 109, 32, 111, 102, 32, 119, 104, 97, 116, 32, 73, 226, 128, 153, 109, 32, 112, 114, 111, 112, 111, 115, 105, 110, 103, 44, 32, 108, 101, 116, 226, 128, 153, 115, 32, 99, 97, 108, 108, 32, 116, 104, 105, 115, 32, 112, 111, 115, 105, 116, 105, 111, 110, 32, 111, 102, 32, 98, 111, 116, 104, 32, 101, 109, 112, 105, 114, 105, 99, 105, 115, 109, 32, 97, 110, 100, 32, 114, 97, 116, 105, 111, 110, 97, 108, 105, 115, 109, 32, 112, 104, 105, 108, 111, 115, 111, 112, 104, 105, 99, 97, 108, 32, 115, 121, 110, 101, 114, 103, 105, 115, 109, 46, 10, 10, 66, 111, 116, 104, 32, 111, 117, 114, 32, 115, 101, 110, 115, 101, 115, 32, 97, 110, 100, 32, 111, 117, 114, 32, 114, 101, 97, 115, 111, 110, 105, 110, 103, 32, 119, 111, 114, 107, 32, 116, 111, 103, 101, 116, 104, 101, 114, 32, 116, 111, 32, 102, 111, 114, 109, 32, 111, 117, 114, 32, 117, 110, 100, 101, 114, 115, 116, 97, 110, 100, 105, 110, 103, 32, 111, 102, 32, 116, 104, 101, 32, 119, 111, 114, 108, 100, 46, 32, 79, 117, 114, 32, 115, 101, 110, 115, 101, 115, 32, 97, 114, 101, 32, 111, 117, 114, 32, 105, 110, 112, 117, 116, 46, 32, 87, 105, 116, 104, 111, 117, 116, 32, 116, 104, 101, 115, 101, 44, 32, 111, 117, 114, 32, 114, 101, 97, 115, 111, 110, 105, 110, 103, 32, 109, 105, 110, 100, 115, 32, 119, 111, 117, 108, 100, 110, 226, 128, 153, 116, 32, 104, 97, 118, 101, 32, 97, 110, 121, 116, 104, 105, 110, 103, 32, 116, 111, 32, 119, 111, 114, 107, 32, 111, 102, 102, 32, 111, 102, 46, 32, 89, 101, 116, 32, 119, 105, 116, 104, 111, 117, 116, 32, 111, 117, 114, 32, 114, 101, 97, 115, 111, 110, 105, 110, 103, 32, 109, 105, 110, 100, 115, 44, 32, 119, 101, 32, 119, 111, 117, 108, 100, 32, 104, 97, 118, 101, 32, 110, 111, 32, 119, 97, 121, 32, 111, 102, 32, 102, 105, 108, 116, 101, 114, 105, 110, 103, 32, 105, 110, 102, 111, 114, 109, 97, 116, 105, 111, 110, 46, 10, 10, 78, 101, 105, 116, 104, 101, 114, 32, 111, 102, 32, 116, 104, 101, 115, 101, 32, 115, 121, 115, 116, 101, 109, 115, 32, 97, 114, 101, 32, 112, 101, 114, 102, 101, 99, 116, 44, 32, 101, 118, 101, 110, 32, 119, 104, 101, 110, 32, 119, 111, 114, 107, 105, 110, 103, 32, 116, 111, 103, 101, 116, 104, 101, 114, 46, 32, 82, 101, 97, 115, 111, 110, 32, 99, 97, 110, 32, 116, 97, 107, 101, 32, 117, 115, 32, 116, 111, 32, 116, 104, 101, 32, 115, 116, 97, 114, 115, 44, 32, 111, 117, 114, 32, 115, 101, 110, 115, 101, 115, 32, 116, 111, 32, 116, 104, 101, 32, 104, 101, 105, 103, 104, 116, 115, 32, 111, 102, 32, 101, 99, 115, 116, 97, 115, 121, 46, 32, 66, 117, 116, 32, 114, 101, 97, 115, 111, 110, 32, 99, 97, 110, 32, 97, 108, 115, 111, 32, 109, 97, 107, 101, 32, 99, 114, 97, 99, 107, 112, 111, 116, 32, 115, 101, 110, 115, 105, 98, 108, 101, 44, 32, 111, 117, 114, 32, 115, 101, 110, 115, 101, 115, 32, 116, 114, 105, 99, 107, 101, 100, 32, 98, 121, 32, 115, 105, 109, 112, 108, 101, 32, 115, 108, 101, 105, 103, 104, 116, 115, 32, 111, 102, 32, 104, 97, 110, 100, 46, 32, 89, 101, 116, 44, 32, 111, 110, 32, 116, 104, 101, 32, 119, 104, 111, 108, 101, 44, 32, 119, 101, 32, 99, 97, 110, 32, 116, 114, 117, 115, 116, 32, 98, 111, 116, 104, 32, 119, 104, 101, 110, 32, 116, 104, 101, 121, 32, 119, 111, 114, 107, 32, 116, 111, 103, 101, 116, 104, 101, 114, 46, 32, 84, 104, 105, 110, 107, 32, 102, 97, 108, 108, 105, 98, 105, 108, 105, 115, 109, 58, 32, 119, 101, 32, 99, 97, 110, 226, 128, 153, 116, 32, 103, 117, 97, 114, 97, 110, 116, 101, 101, 32, 116, 104, 97, 116, 32, 119, 101, 226, 128, 153, 114, 101, 32, 114, 105, 103, 104, 116, 44, 32, 98, 117, 116, 32, 116, 104, 97, 116, 32, 100, 111, 101, 115, 110, 226, 128, 153, 116, 32, 109, 101, 97, 110, 32, 119, 101, 226, 128, 153, 114, 101, 32, 119, 114, 111, 110, 103, 44, 32, 101, 105, 116, 104, 101, 114, 46, 32, 79, 117, 114, 32, 112, 111, 115, 105, 116, 105, 111, 110, 115, 32, 99, 97, 110, 32, 97, 108, 119, 97, 121, 115, 32, 99, 104, 97, 110, 103, 101, 32, 103, 105, 118, 101, 110, 32, 110, 101, 119, 32, 105, 110, 102, 111, 114, 109, 97, 116, 105, 111, 110, 46, 32, 84, 104, 97, 116, 32, 110, 101, 119, 32, 105, 110, 102, 111, 114, 109, 97, 116, 105, 111, 110, 32, 109, 97, 121, 32, 99, 111, 109, 101, 32, 102, 114, 111, 109, 32, 111, 117, 114, 32, 115, 101, 110, 115, 101, 115, 32, 111, 114, 32, 102, 114, 111, 109, 32, 111, 117, 114, 32, 114, 101, 97, 115, 111, 110, 105, 110, 103, 32, 109, 105, 110, 100, 46, 10, 10, 40, 83, 105, 100, 101, 32, 110, 111, 116, 101, 58, 32, 73, 32, 106, 117, 115, 116, 32, 108, 101, 97, 114, 110, 101, 100, 32, 97, 98, 111, 117, 116, 32, 102, 97, 108, 108, 105, 98, 105, 108, 105, 115, 109, 44, 32, 115, 111, 32, 109, 121, 32, 98, 114, 111, 97, 100, 32, 117, 110, 100, 101, 114, 115, 116, 97, 110, 100, 105, 110, 103, 32, 111, 102, 32, 105, 116, 32, 105, 115, 32, 116, 104, 97, 116, 32, 119, 101, 32, 99, 97, 110, 226, 128, 153, 116, 32, 98, 101, 32, 115, 117, 114, 101, 32, 97, 98, 111, 117, 116, 32, 97, 110, 121, 116, 104, 105, 110, 103, 32, 98, 117, 116, 32, 107, 110, 111, 119, 108, 101, 100, 103, 101, 32, 100, 111, 101, 115, 110, 226, 128, 153, 116, 32, 110, 101, 101, 100, 32, 97, 98, 115, 111, 108, 117, 116, 101, 32, 99, 101, 114, 116, 97, 105, 110, 116, 121, 46, 32, 66, 111, 97, 114, 100, 32, 117, 110, 100, 101, 114, 115, 116, 97, 110, 100, 105, 110, 103, 32, 105, 115, 32, 110, 111, 116, 44, 32, 116, 121, 112, 105, 99, 97, 108, 108, 121, 44, 32, 103, 114, 101, 97, 116, 32, 117, 110, 100, 101, 114, 115, 116, 97, 110, 100, 105, 110, 103, 44, 32, 98, 117, 116, 32, 97, 115, 32, 102, 97, 114, 32, 97, 115, 32, 73, 32, 99, 97, 110, 32, 116, 101, 108, 108, 44, 32, 105, 116, 32, 115, 101, 101, 109, 115, 32, 116, 111, 32, 98, 101, 32, 116, 104, 101, 32, 99, 97, 115, 101, 46, 41, 10, 10, 78, 111, 119, 44, 32, 115, 111, 109, 101, 32, 109, 97, 121, 32, 119, 111, 110, 100, 101, 114, 32, 105, 102, 32, 101, 105, 116, 104, 101, 114, 32, 114, 101, 97, 115, 111, 110, 105, 110, 103, 32, 111, 114, 32, 111, 117, 114, 32, 115, 101, 110, 115, 101, 115, 32, 112, 117, 108, 108, 32, 109, 111, 114, 101, 32, 111, 102, 32, 116, 104, 101, 32, 119, 101, 105, 103, 104, 116, 46, 32, 73, 116, 226, 128, 153, 115, 32, 97, 32, 102, 97, 105, 114, 32, 113, 117, 101, 115, 116, 105, 111, 110, 58, 32, 105, 115, 32, 105, 116, 32, 109, 111, 114, 101, 32, 119, 111, 114, 107, 32, 116, 111, 32, 105, 110, 116, 101, 114, 112, 114, 101, 116, 32, 111, 117, 114, 32, 101, 109, 111, 116, 105, 111, 110, 115, 44, 32, 111, 114, 32, 100, 111, 32, 111, 117, 114, 32, 115, 101, 110, 115, 101, 115, 32, 119, 111, 114, 107, 32, 104, 97, 114, 100, 101, 114, 32, 98, 101, 99, 97, 117, 115, 101, 32, 119, 101, 226, 128, 153, 100, 32, 104, 97, 118, 101, 32, 110, 111, 32, 119, 97, 121, 32, 116, 111, 32, 110, 97, 118, 105, 103, 97, 116, 101, 32, 116, 104, 101, 32, 119, 111, 114, 108, 100, 63, 32, 73, 102, 32, 73, 32, 104, 97, 100, 32, 116, 111, 32, 116, 97, 107, 101, 32, 97, 32, 115, 105, 100, 101, 44, 32, 73, 226, 128, 153, 100, 32, 115, 105, 100, 101, 32, 119, 105, 116, 104, 32, 111, 117, 114, 32, 115, 101, 110, 115, 101, 115, 46, 32, 69, 118, 101, 114, 121, 32, 97, 110, 105, 109, 97, 108, 32, 115, 117, 114, 118, 105, 118, 101, 115, 32, 98, 121, 32, 116, 104, 101, 105, 114, 32, 115, 101, 110, 115, 101, 115, 46, 32, 86, 101, 114, 121, 32, 102, 101, 119, 32, 117, 115, 101, 32, 114, 101, 97, 115, 111, 110, 32, 116, 111, 32, 110, 97, 118, 105, 103, 97, 116, 101, 32, 116, 104, 101, 105, 114, 32, 108, 105, 118, 101, 115, 46, 32, 66, 117, 116, 32, 116, 104, 101, 110, 32, 97, 103, 97, 105, 110, 44, 32, 119, 101, 32, 109, 105, 103, 104, 116, 32, 110, 111, 116, 32, 98, 101, 32, 104, 117, 109, 97, 110, 32, 97, 116, 32, 116, 104, 97, 116, 32, 112, 111, 105, 110, 116, 58, 44, 32, 109, 111, 115, 116, 32, 97, 110, 105, 109, 97, 108, 115, 32, 101, 118, 111, 108, 118, 101, 100, 32, 116, 111, 32, 116, 104, 101, 105, 114, 32, 101, 110, 118, 105, 114, 111, 110, 109, 101, 110, 116, 46, 32, 72, 117, 109, 97, 110, 115, 32, 104, 97, 100, 32, 116, 111, 32, 97, 100, 97, 112, 116, 32, 98, 121, 32, 117, 115, 105, 110, 103, 32, 119, 104, 97, 116, 32, 119, 97, 115, 32, 97, 118, 97, 105, 108, 97, 98, 108, 101, 44, 32, 97, 110, 100, 32, 116, 104, 97, 116, 32, 114, 101, 113, 117, 105, 114, 101, 115, 32, 114, 101, 97, 115, 111, 110, 46, 32, 83, 111, 32, 112, 101, 114, 104, 97, 112, 115, 32, 105, 116, 32, 105, 115, 110, 226, 128, 153, 116, 32, 97, 115, 32, 99, 108, 101, 97, 114, 32, 97, 115, 32, 111, 110, 101, 32, 119, 111, 117, 108, 100, 32, 104, 111, 112, 101, 46, 10, 10, 73, 32, 114, 101, 97, 108, 105, 122, 101, 32, 116, 104, 97, 116, 32, 116, 104, 105, 115, 32, 105, 115, 110, 226, 128, 153, 116, 32, 97, 32, 102, 111, 114, 109, 97, 108, 32, 112, 104, 105, 108, 111, 115, 111, 112, 104, 105, 99, 32, 97, 114, 103, 117, 109, 101, 110, 116, 46, 32, 73, 32, 97, 109, 32, 110, 111, 116, 32, 97, 32, 112, 114, 111, 102, 101, 115, 115, 105, 111, 110, 97, 108, 32, 112, 104, 105, 108, 111, 115, 111, 112, 104, 101, 114, 46, 32, 73, 32, 111, 110, 108, 121, 32, 112, 108, 97, 121, 32, 111, 110, 101, 32, 111, 110, 32, 116, 104, 101, 32, 105, 110, 116, 101, 114, 110, 101, 116, 46, 32, 66, 117, 116, 32, 73, 32, 110, 101, 101, 100, 101, 100, 32, 116, 104, 105, 115, 32, 109, 111, 114, 101, 32, 116, 104, 97, 110, 32, 121, 111, 117, 32, 100, 105, 100, 58, 32, 73, 32, 110, 101, 101, 100, 101, 100, 32, 116, 111, 32, 99, 108, 97, 114, 105, 102, 121, 32, 109, 121, 32, 116, 104, 111, 117, 103, 104, 116, 115, 32, 97, 98, 111, 117, 116, 32, 104, 111, 119, 32, 73, 32, 107, 110, 101, 119, 32, 119, 104, 97, 116, 32, 73, 32, 107, 110, 101, 119, 46, 32, 73, 102, 32, 119, 101, 32, 100, 111, 110, 226, 128, 153, 116, 32, 107, 110, 111, 119, 32, 104, 111, 119, 32, 119, 101, 32, 107, 110, 111, 119, 44, 32, 119, 101, 32, 102, 97, 108, 108, 32, 112, 114, 101, 121, 32, 116, 111, 32, 116, 114, 97, 112, 115, 32, 111, 102, 32, 98, 111, 116, 104, 32, 116, 104, 101, 32, 109, 105, 110, 100, 32, 97, 110, 100, 32, 116, 104, 101, 32, 98, 111, 100, 121, 46, 32, 79, 110, 108, 121, 32, 98, 121, 32, 117, 110, 100, 101, 114, 115, 116, 97, 110, 100, 105, 110, 103, 32, 111, 117, 114, 115, 101, 108, 118, 101, 115, 32, 99, 97, 110, 32, 119, 101, 32, 115, 112, 111, 116, 32, 116, 104, 101, 32, 116, 114, 97, 112, 115, 32, 98, 101, 102, 111, 114, 101, 32, 116, 104, 101, 121, 32, 101, 110, 115, 110, 97, 114, 101, 32, 117, 115, 46]\n",
      "length: 3774\n"
     ]
    }
   ],
   "source": [
    "tokens = text.encode(\"utf-8\")\n",
    "tokens = list(map(int,tokens))\n",
    "print('----------------')\n",
    "print(text) \n",
    "print('-----------------')\n",
    "print(f'length: {len(text)}') # no of characters\n",
    "print('----------------')\n",
    "print(tokens)\n",
    "print(f'length: {len(tokens)}') # no of bytes "
   ]
  },
  {
   "cell_type": "code",
   "execution_count": 27,
   "metadata": {},
   "outputs": [],
   "source": [
    "def get_pair_counts(tokens)->dict:\n",
    "    pair_counts = {}\n",
    "    for pair in zip(tokens,tokens[1:]):\n",
    "        pair_counts[pair] = pair_counts.get(pair,0) + 1\n",
    "    return pair_counts\n",
    "\n",
    "pair_counts=get_pair_counts(tokens=tokens)\n",
    "sorted_pairs= sorted(((v,k) for k,v in pair_counts.items()),reverse=True)"
   ]
  },
  {
   "cell_type": "code",
   "execution_count": 47,
   "metadata": {},
   "outputs": [],
   "source": [
    "top_pair = max(pair_counts,key =pair_counts.get)"
   ]
  }
 ],
 "metadata": {
  "kernelspec": {
   "display_name": "transformer_venv",
   "language": "python",
   "name": "python3"
  },
  "language_info": {
   "codemirror_mode": {
    "name": "ipython",
    "version": 3
   },
   "file_extension": ".py",
   "mimetype": "text/x-python",
   "name": "python",
   "nbconvert_exporter": "python",
   "pygments_lexer": "ipython3",
   "version": "3.11.2"
  }
 },
 "nbformat": 4,
 "nbformat_minor": 2
}
